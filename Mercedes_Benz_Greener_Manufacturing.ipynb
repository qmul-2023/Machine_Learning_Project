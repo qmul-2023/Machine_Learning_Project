{
  "nbformat": 4,
  "nbformat_minor": 0,
  "metadata": {
    "colab": {
      "provenance": []
    },
    "kernelspec": {
      "name": "python3",
      "display_name": "Python 3"
    },
    "language_info": {
      "name": "python"
    }
  },
  "cells": [
    {
      "cell_type": "markdown",
      "source": [
        "#Import required libraries"
      ],
      "metadata": {
        "id": "WSNoiPg7kok2"
      }
    },
    {
      "cell_type": "code",
      "execution_count": 1,
      "metadata": {
        "id": "3kGvv0joZlV4"
      },
      "outputs": [],
      "source": [
        "import numpy as np\n",
        "import pandas as pd\n",
        "from sklearn.decomposition import PCA\n",
        "from sklearn.model_selection import train_test_split\n",
        "import xgboost as xgb\n",
        "from sklearn.metrics import r2_score"
      ]
    },
    {
      "cell_type": "markdown",
      "source": [
        "#Read train data"
      ],
      "metadata": {
        "id": "_bYLPyVlksmY"
      }
    },
    {
      "cell_type": "code",
      "source": [
        "df_train = pd.read_csv('train.csv')\n",
        "print(f'Size of training set: {df_train.shape[0]} rows and {df_train.shape[1]} columns')\n",
        "print(df_train.head())"
      ],
      "metadata": {
        "colab": {
          "base_uri": "https://localhost:8080/"
        },
        "id": "LvY-bFJpd6ah",
        "outputId": "981c61e4-c1d7-4886-ae46-7110bbeda1c9"
      },
      "execution_count": 2,
      "outputs": [
        {
          "output_type": "stream",
          "name": "stdout",
          "text": [
            "Size of training set: 4209 rows and 378 columns\n",
            "   ID       y  X0 X1  X2 X3 X4 X5 X6 X8  ...  X375  X376  X377  X378  X379  \\\n",
            "0   0  130.81   k  v  at  a  d  u  j  o  ...     0     0     1     0     0   \n",
            "1   6   88.53   k  t  av  e  d  y  l  o  ...     1     0     0     0     0   \n",
            "2   7   76.26  az  w   n  c  d  x  j  x  ...     0     0     0     0     0   \n",
            "3   9   80.62  az  t   n  f  d  x  l  e  ...     0     0     0     0     0   \n",
            "4  13   78.02  az  v   n  f  d  h  d  n  ...     0     0     0     0     0   \n",
            "\n",
            "   X380  X382  X383  X384  X385  \n",
            "0     0     0     0     0     0  \n",
            "1     0     0     0     0     0  \n",
            "2     0     1     0     0     0  \n",
            "3     0     0     0     0     0  \n",
            "4     0     0     0     0     0  \n",
            "\n",
            "[5 rows x 378 columns]\n"
          ]
        }
      ]
    },
    {
      "cell_type": "markdown",
      "source": [
        "#Collect Y values into an array"
      ],
      "metadata": {
        "id": "jbLfPLsRk0rO"
      }
    },
    {
      "cell_type": "code",
      "source": [
        "y_train = df_train['y'].values"
      ],
      "metadata": {
        "id": "olsjEsBVkygP"
      },
      "execution_count": 3,
      "outputs": []
    },
    {
      "cell_type": "markdown",
      "source": [
        "#Understand data types"
      ],
      "metadata": {
        "id": "Wo7aicZSk-Zq"
      }
    },
    {
      "cell_type": "code",
      "source": [
        "cols = [c for c in df_train.columns if 'X' in c]\n",
        "print(f'Number of features: {len(cols)}')\n",
        "print('Feature types:')\n",
        "print(df_train[cols].dtypes.value_counts())"
      ],
      "metadata": {
        "colab": {
          "base_uri": "https://localhost:8080/"
        },
        "id": "pbSBdhxEk8G0",
        "outputId": "7f050dd8-9463-4a9b-f4d8-7053222ec273"
      },
      "execution_count": 4,
      "outputs": [
        {
          "output_type": "stream",
          "name": "stdout",
          "text": [
            "Number of features: 376\n",
            "Feature types:\n",
            "int64     368\n",
            "object      8\n",
            "dtype: int64\n"
          ]
        }
      ]
    },
    {
      "cell_type": "markdown",
      "source": [
        "#Count data in each column"
      ],
      "metadata": {
        "id": "bgUfC7KnlG_g"
      }
    },
    {
      "cell_type": "code",
      "source": [
        "counts = [[], [], []]\n",
        "for c in cols:\n",
        "    typ = df_train[c].dtype\n",
        "    uniq = len(np.unique(df_train[c]))\n",
        "    if uniq == 1:\n",
        "        counts[0].append(c)\n",
        "    elif uniq == 2 and typ == np.int64:\n",
        "        counts[1].append(c)\n",
        "    else:\n",
        "        counts[2].append(c)\n",
        "\n",
        "print(f'Constant features: {len(counts[0])} Binary features: {len(counts[1])} Categorical features: {len(counts[2])}\\n')\n",
        "print('Constant features:', counts[0])\n",
        "print('Categorical features:', counts[2])"
      ],
      "metadata": {
        "colab": {
          "base_uri": "https://localhost:8080/"
        },
        "id": "MphqXjLmlE8b",
        "outputId": "21ec4455-4c6c-49e3-e958-d6801af29489"
      },
      "execution_count": 5,
      "outputs": [
        {
          "output_type": "stream",
          "name": "stdout",
          "text": [
            "Constant features: 12 Binary features: 356 Categorical features: 8\n",
            "\n",
            "Constant features: ['X11', 'X93', 'X107', 'X233', 'X235', 'X268', 'X289', 'X290', 'X293', 'X297', 'X330', 'X347']\n",
            "Categorical features: ['X0', 'X1', 'X2', 'X3', 'X4', 'X5', 'X6', 'X8']\n"
          ]
        }
      ]
    },
    {
      "cell_type": "markdown",
      "source": [
        "#Read test data and preprocess"
      ],
      "metadata": {
        "id": "kgPw4FqnlREm"
      }
    },
    {
      "cell_type": "code",
      "source": [
        "df_test = pd.read_csv('test.csv')\n",
        "usable_columns = list(set(df_train.columns) - set(['ID', 'y']))\n",
        "y_train = df_train['y'].values\n",
        "id_test = df_test['ID'].values\n",
        "x_train = df_train[usable_columns]\n",
        "x_test = df_test[usable_columns]"
      ],
      "metadata": {
        "id": "W_4ppWRGlPlm"
      },
      "execution_count": 6,
      "outputs": []
    },
    {
      "cell_type": "markdown",
      "source": [
        "#Check for null values"
      ],
      "metadata": {
        "id": "k3V6GuVglWwI"
      }
    },
    {
      "cell_type": "code",
      "source": [
        "def check_missing_values(df):\n",
        "    if df.isnull().any().any():\n",
        "        print(\"There are missing values in the dataframe\")\n",
        "    else:\n",
        "        print(\"There are no missing values in the dataframe\")\n",
        "\n",
        "check_missing_values(x_train)\n",
        "check_missing_values(x_test)"
      ],
      "metadata": {
        "colab": {
          "base_uri": "https://localhost:8080/"
        },
        "id": "kY2pTQRhlUyk",
        "outputId": "c6bfdb80-9846-486a-d2b9-61ce9cd159b9"
      },
      "execution_count": 7,
      "outputs": [
        {
          "output_type": "stream",
          "name": "stdout",
          "text": [
            "There are no missing values in the dataframe\n",
            "There are no missing values in the dataframe\n"
          ]
        }
      ]
    },
    {
      "cell_type": "markdown",
      "source": [
        "#Remove columns with zero variance and apply label encoder"
      ],
      "metadata": {
        "id": "uFgIdkT6lawv"
      }
    },
    {
      "cell_type": "code",
      "source": [
        "# Identify columns with non-zero variance\n",
        "non_zero_variance_cols = x_train.columns[x_train.apply(pd.Series.nunique) != 1]\n",
        "non_zero_variance_cols = list(set(non_zero_variance_cols) & set(x_test.columns))\n",
        "\n",
        "# Check if any columns have non-zero variance\n",
        "if len(non_zero_variance_cols) == 0:\n",
        "    print(\"No columns with non-zero variance found.\")\n",
        "else:\n",
        "    # Remove columns with zero variance\n",
        "    x_train = x_train[non_zero_variance_cols]\n",
        "    x_test = x_test[non_zero_variance_cols]\n",
        "\n",
        "    # Apply label encoding to categorical columns\n",
        "    for column in non_zero_variance_cols:\n",
        "        cardinality = len(np.unique(x_train[column]))\n",
        "        if cardinality > 2:  # Column is categorical\n",
        "            mapper = lambda x: sum([ord(digit) for digit in str(x)])\n",
        "            x_train[column] = x_train[column].apply(mapper)\n",
        "            x_test[column] = x_test[column].apply(mapper)\n",
        "\n",
        "# Display the modified datasets\n",
        "print(\"Updated training set:\")\n",
        "print(x_train.head())\n",
        "\n",
        "print(\"\\nUpdated test set:\")\n",
        "print(x_test.head())"
      ],
      "metadata": {
        "colab": {
          "base_uri": "https://localhost:8080/"
        },
        "id": "PHmOQ5yIgsXj",
        "outputId": "9e9751d7-8c18-473f-bed6-583cff351452"
      },
      "execution_count": 8,
      "outputs": [
        {
          "output_type": "stream",
          "name": "stderr",
          "text": [
            "<ipython-input-8-ccb19f2dbc79>:18: SettingWithCopyWarning: \n",
            "A value is trying to be set on a copy of a slice from a DataFrame.\n",
            "Try using .loc[row_indexer,col_indexer] = value instead\n",
            "\n",
            "See the caveats in the documentation: https://pandas.pydata.org/pandas-docs/stable/user_guide/indexing.html#returning-a-view-versus-a-copy\n",
            "  x_train[column] = x_train[column].apply(mapper)\n",
            "<ipython-input-8-ccb19f2dbc79>:19: SettingWithCopyWarning: \n",
            "A value is trying to be set on a copy of a slice from a DataFrame.\n",
            "Try using .loc[row_indexer,col_indexer] = value instead\n",
            "\n",
            "See the caveats in the documentation: https://pandas.pydata.org/pandas-docs/stable/user_guide/indexing.html#returning-a-view-versus-a-copy\n",
            "  x_test[column] = x_test[column].apply(mapper)\n"
          ]
        },
        {
          "output_type": "stream",
          "name": "stdout",
          "text": [
            "Updated training set:\n",
            "   X196  X259  X74  X240  X96  X37  X360  X154  X168  X21  ...  X385  X354  \\\n",
            "0     0     0    1     0    0    1     0     0     0    1  ...     0     1   \n",
            "1     0     0    1     0    1    1     0     0     0    0  ...     0     0   \n",
            "2     0     0    1     0    1    1     0     0     0    0  ...     0     1   \n",
            "3     0     0    1     0    1    1     0     0     0    0  ...     0     0   \n",
            "4     0     0    1     0    1    1     0     0     0    0  ...     0     0   \n",
            "\n",
            "   X344  X318  X169  X126  X279  X116  X300  X23  \n",
            "0     0     0     0     0     0     1     0    0  \n",
            "1     0     0     0     0     0     0     0    0  \n",
            "2     0     0     1     0     1     0     0    0  \n",
            "3     0     0     0     0     1     0     0    0  \n",
            "4     0     0     0     0     1     0     0    0  \n",
            "\n",
            "[5 rows x 364 columns]\n",
            "\n",
            "Updated test set:\n",
            "   X196  X259  X74  X240  X96  X37  X360  X154  X168  X21  ...  X385  X354  \\\n",
            "0     0     0    1     0    1    1     0     0     0    0  ...     0     0   \n",
            "1     0     0    1     0    0    1     0     0     0    0  ...     0     0   \n",
            "2     0     0    1     0    1    1     0     0     0    0  ...     0     0   \n",
            "3     0     0    1     0    1    1     0     0     0    0  ...     0     0   \n",
            "4     0     0    1     0    1    0     0     0     0    0  ...     0     0   \n",
            "\n",
            "   X344  X318  X169  X126  X279  X116  X300  X23  \n",
            "0     0     0     0     0     1     0     0    0  \n",
            "1     0     0     0     0     0     1     0    0  \n",
            "2     0     0     0     0     1     0     0    0  \n",
            "3     0     0     0     0     1     0     0    0  \n",
            "4     0     0     0     0     0     0     1    0  \n",
            "\n",
            "[5 rows x 364 columns]\n"
          ]
        }
      ]
    },
    {
      "cell_type": "markdown",
      "source": [
        "#Confirm data is now numerical"
      ],
      "metadata": {
        "id": "670qAlF0lkcb"
      }
    },
    {
      "cell_type": "code",
      "source": [
        "print('Feature types:')\n",
        "print(x_train[non_zero_variance_cols].dtypes.value_counts())"
      ],
      "metadata": {
        "colab": {
          "base_uri": "https://localhost:8080/"
        },
        "id": "cT5GIBVYgzL2",
        "outputId": "331f67ca-018c-40ef-e9b4-3aae976005ac"
      },
      "execution_count": 9,
      "outputs": [
        {
          "output_type": "stream",
          "name": "stdout",
          "text": [
            "Feature types:\n",
            "int64    364\n",
            "dtype: int64\n"
          ]
        }
      ]
    },
    {
      "cell_type": "markdown",
      "source": [
        "#Perform dimensionality reduction"
      ],
      "metadata": {
        "id": "Y4r3ejgLloM3"
      }
    },
    {
      "cell_type": "code",
      "source": [
        "n_comp = 12\n",
        "pca = PCA(n_components=n_comp, random_state=420)\n",
        "pca2_results_train = pca.fit_transform(x_train)\n",
        "pca2_results_test = pca.transform(x_test)"
      ],
      "metadata": {
        "id": "q7S4vf6AhL3E"
      },
      "execution_count": 10,
      "outputs": []
    },
    {
      "cell_type": "markdown",
      "source": [
        "#Training using xgboost"
      ],
      "metadata": {
        "id": "I7LC_RC4lr2l"
      }
    },
    {
      "cell_type": "code",
      "source": [
        "x_train, x_valid, y_train, y_valid = train_test_split(\n",
        "    pca2_results_train, y_train, test_size=0.2, random_state=4242)\n",
        "d_train = xgb.DMatrix(x_train, label=y_train)\n",
        "d_valid = xgb.DMatrix(x_valid, label=y_valid)\n",
        "d_test = xgb.DMatrix(pca2_results_test)\n",
        "\n",
        "params = {'objective': 'reg:linear', 'eta': 0.02, 'max_depth': 4}\n",
        "\n",
        "def xgb_r2_score(preds, dtrain):\n",
        "    labels = dtrain.get_label()\n",
        "    return 'r2', r2_score(labels, preds)\n",
        "\n",
        "watchlist = [(d_train, 'train'), (d_valid, 'valid')]\n",
        "\n",
        "clf = xgb.train(params, d_train, 1000, watchlist, early_stopping_rounds=50,\n",
        "                feval=xgb_r2_score, maximize=True, verbose_eval=10)"
      ],
      "metadata": {
        "colab": {
          "base_uri": "https://localhost:8080/"
        },
        "id": "IJ7a1I0-hkHE",
        "outputId": "c1ad57ca-c548-4982-eb8c-a0dbbd1e2d32"
      },
      "execution_count": 11,
      "outputs": [
        {
          "output_type": "stream",
          "name": "stdout",
          "text": [
            "[0]\ttrain-rmse:12.78419\ttrain-r2:0.01323\tvalid-rmse:11.78154\tvalid-r2:0.01330\n",
            "[10]\ttrain-rmse:12.06996\ttrain-r2:0.12040\tvalid-rmse:10.91823\tvalid-r2:0.15260\n"
          ]
        },
        {
          "output_type": "stream",
          "name": "stderr",
          "text": [
            "/usr/local/lib/python3.10/dist-packages/xgboost/core.py:727: FutureWarning: Pass `evals` as keyword args.\n",
            "  warnings.warn(msg, FutureWarning)\n",
            "/usr/local/lib/python3.10/dist-packages/xgboost/training.py:38: UserWarning: `feval` is deprecated, use `custom_metric` instead.  They have different behavior when custom objective is also used.See https://xgboost.readthedocs.io/en/latest/tutorials/custom_metric_obj.html for details on the `custom_metric`.\n",
            "  warnings.warn(\n",
            "/usr/local/lib/python3.10/dist-packages/xgboost/core.py:160: UserWarning: [10:24:08] WARNING: /workspace/src/objective/regression_obj.cu:209: reg:linear is now deprecated in favor of reg:squarederror.\n",
            "  warnings.warn(smsg, UserWarning)\n"
          ]
        },
        {
          "output_type": "stream",
          "name": "stdout",
          "text": [
            "[20]\ttrain-rmse:11.54919\ttrain-r2:0.19467\tvalid-rmse:10.30543\tvalid-r2:0.24506\n",
            "[30]\ttrain-rmse:11.15053\ttrain-r2:0.24931\tvalid-rmse:9.85657\tvalid-r2:0.30939\n",
            "[40]\ttrain-rmse:10.85069\ttrain-r2:0.28914\tvalid-rmse:9.54286\tvalid-r2:0.35265\n",
            "[50]\ttrain-rmse:10.61450\ttrain-r2:0.31975\tvalid-rmse:9.31130\tvalid-r2:0.38368\n",
            "[60]\ttrain-rmse:10.42328\ttrain-r2:0.34404\tvalid-rmse:9.12627\tvalid-r2:0.40794\n",
            "[70]\ttrain-rmse:10.18339\ttrain-r2:0.37388\tvalid-rmse:8.94679\tvalid-r2:0.43100\n",
            "[80]\ttrain-rmse:9.98003\ttrain-r2:0.39864\tvalid-rmse:8.80931\tvalid-r2:0.44835\n",
            "[90]\ttrain-rmse:9.80387\ttrain-r2:0.41968\tvalid-rmse:8.70424\tvalid-r2:0.46143\n",
            "[100]\ttrain-rmse:9.66411\ttrain-r2:0.43611\tvalid-rmse:8.62534\tvalid-r2:0.47115\n",
            "[110]\ttrain-rmse:9.53922\ttrain-r2:0.45059\tvalid-rmse:8.55633\tvalid-r2:0.47958\n",
            "[120]\ttrain-rmse:9.43250\ttrain-r2:0.46281\tvalid-rmse:8.50798\tvalid-r2:0.48544\n",
            "[130]\ttrain-rmse:9.33805\ttrain-r2:0.47352\tvalid-rmse:8.47704\tvalid-r2:0.48918\n",
            "[140]\ttrain-rmse:9.25453\ttrain-r2:0.48289\tvalid-rmse:8.44551\tvalid-r2:0.49297\n",
            "[150]\ttrain-rmse:9.16753\ttrain-r2:0.49257\tvalid-rmse:8.41991\tvalid-r2:0.49604\n",
            "[160]\ttrain-rmse:9.08517\ttrain-r2:0.50165\tvalid-rmse:8.40073\tvalid-r2:0.49833\n",
            "[170]\ttrain-rmse:9.01320\ttrain-r2:0.50951\tvalid-rmse:8.38862\tvalid-r2:0.49978\n",
            "[180]\ttrain-rmse:8.94551\ttrain-r2:0.51685\tvalid-rmse:8.37477\tvalid-r2:0.50143\n",
            "[190]\ttrain-rmse:8.87916\ttrain-r2:0.52399\tvalid-rmse:8.35815\tvalid-r2:0.50340\n",
            "[200]\ttrain-rmse:8.82234\ttrain-r2:0.53006\tvalid-rmse:8.34354\tvalid-r2:0.50514\n",
            "[210]\ttrain-rmse:8.76879\ttrain-r2:0.53575\tvalid-rmse:8.33482\tvalid-r2:0.50617\n",
            "[220]\ttrain-rmse:8.72847\ttrain-r2:0.54001\tvalid-rmse:8.32337\tvalid-r2:0.50753\n",
            "[230]\ttrain-rmse:8.68550\ttrain-r2:0.54453\tvalid-rmse:8.31804\tvalid-r2:0.50816\n",
            "[240]\ttrain-rmse:8.64634\ttrain-r2:0.54863\tvalid-rmse:8.31182\tvalid-r2:0.50889\n",
            "[250]\ttrain-rmse:8.60836\ttrain-r2:0.55258\tvalid-rmse:8.30896\tvalid-r2:0.50923\n",
            "[260]\ttrain-rmse:8.57745\ttrain-r2:0.55579\tvalid-rmse:8.30667\tvalid-r2:0.50950\n",
            "[270]\ttrain-rmse:8.53959\ttrain-r2:0.55970\tvalid-rmse:8.30348\tvalid-r2:0.50988\n",
            "[280]\ttrain-rmse:8.51016\ttrain-r2:0.56273\tvalid-rmse:8.30218\tvalid-r2:0.51003\n",
            "[290]\ttrain-rmse:8.47238\ttrain-r2:0.56661\tvalid-rmse:8.30412\tvalid-r2:0.50980\n",
            "[300]\ttrain-rmse:8.44241\ttrain-r2:0.56967\tvalid-rmse:8.30660\tvalid-r2:0.50951\n",
            "[310]\ttrain-rmse:8.41122\ttrain-r2:0.57284\tvalid-rmse:8.30659\tvalid-r2:0.50951\n",
            "[320]\ttrain-rmse:8.37736\ttrain-r2:0.57627\tvalid-rmse:8.30522\tvalid-r2:0.50967\n",
            "[329]\ttrain-rmse:8.34117\ttrain-r2:0.57993\tvalid-rmse:8.30315\tvalid-r2:0.50992\n"
          ]
        }
      ]
    },
    {
      "cell_type": "markdown",
      "source": [
        "#Predict test values using xgboost"
      ],
      "metadata": {
        "id": "YDTO8jjslv0z"
      }
    },
    {
      "cell_type": "code",
      "source": [
        "p_test = clf.predict(d_test)\n",
        "\n",
        "sub = pd.DataFrame({'ID': id_test, 'y': p_test})\n",
        "sub.to_csv('xgb.csv', index=False)\n",
        "sub.head()"
      ],
      "metadata": {
        "colab": {
          "base_uri": "https://localhost:8080/",
          "height": 206
        },
        "id": "0eyOmLKEjB38",
        "outputId": "2ce49099-a9df-4163-b73b-3e5549fe74dc"
      },
      "execution_count": 12,
      "outputs": [
        {
          "output_type": "execute_result",
          "data": {
            "text/plain": [
              "   ID           y\n",
              "0   1   82.513329\n",
              "1   2   95.007858\n",
              "2   3   81.978683\n",
              "3   4   77.199409\n",
              "4   5  113.002701"
            ],
            "text/html": [
              "\n",
              "  <div id=\"df-7a48bc86-20c8-465b-86af-76b8ba640e55\" class=\"colab-df-container\">\n",
              "    <div>\n",
              "<style scoped>\n",
              "    .dataframe tbody tr th:only-of-type {\n",
              "        vertical-align: middle;\n",
              "    }\n",
              "\n",
              "    .dataframe tbody tr th {\n",
              "        vertical-align: top;\n",
              "    }\n",
              "\n",
              "    .dataframe thead th {\n",
              "        text-align: right;\n",
              "    }\n",
              "</style>\n",
              "<table border=\"1\" class=\"dataframe\">\n",
              "  <thead>\n",
              "    <tr style=\"text-align: right;\">\n",
              "      <th></th>\n",
              "      <th>ID</th>\n",
              "      <th>y</th>\n",
              "    </tr>\n",
              "  </thead>\n",
              "  <tbody>\n",
              "    <tr>\n",
              "      <th>0</th>\n",
              "      <td>1</td>\n",
              "      <td>82.513329</td>\n",
              "    </tr>\n",
              "    <tr>\n",
              "      <th>1</th>\n",
              "      <td>2</td>\n",
              "      <td>95.007858</td>\n",
              "    </tr>\n",
              "    <tr>\n",
              "      <th>2</th>\n",
              "      <td>3</td>\n",
              "      <td>81.978683</td>\n",
              "    </tr>\n",
              "    <tr>\n",
              "      <th>3</th>\n",
              "      <td>4</td>\n",
              "      <td>77.199409</td>\n",
              "    </tr>\n",
              "    <tr>\n",
              "      <th>4</th>\n",
              "      <td>5</td>\n",
              "      <td>113.002701</td>\n",
              "    </tr>\n",
              "  </tbody>\n",
              "</table>\n",
              "</div>\n",
              "    <div class=\"colab-df-buttons\">\n",
              "\n",
              "  <div class=\"colab-df-container\">\n",
              "    <button class=\"colab-df-convert\" onclick=\"convertToInteractive('df-7a48bc86-20c8-465b-86af-76b8ba640e55')\"\n",
              "            title=\"Convert this dataframe to an interactive table.\"\n",
              "            style=\"display:none;\">\n",
              "\n",
              "  <svg xmlns=\"http://www.w3.org/2000/svg\" height=\"24px\" viewBox=\"0 -960 960 960\">\n",
              "    <path d=\"M120-120v-720h720v720H120Zm60-500h600v-160H180v160Zm220 220h160v-160H400v160Zm0 220h160v-160H400v160ZM180-400h160v-160H180v160Zm440 0h160v-160H620v160ZM180-180h160v-160H180v160Zm440 0h160v-160H620v160Z\"/>\n",
              "  </svg>\n",
              "    </button>\n",
              "\n",
              "  <style>\n",
              "    .colab-df-container {\n",
              "      display:flex;\n",
              "      gap: 12px;\n",
              "    }\n",
              "\n",
              "    .colab-df-convert {\n",
              "      background-color: #E8F0FE;\n",
              "      border: none;\n",
              "      border-radius: 50%;\n",
              "      cursor: pointer;\n",
              "      display: none;\n",
              "      fill: #1967D2;\n",
              "      height: 32px;\n",
              "      padding: 0 0 0 0;\n",
              "      width: 32px;\n",
              "    }\n",
              "\n",
              "    .colab-df-convert:hover {\n",
              "      background-color: #E2EBFA;\n",
              "      box-shadow: 0px 1px 2px rgba(60, 64, 67, 0.3), 0px 1px 3px 1px rgba(60, 64, 67, 0.15);\n",
              "      fill: #174EA6;\n",
              "    }\n",
              "\n",
              "    .colab-df-buttons div {\n",
              "      margin-bottom: 4px;\n",
              "    }\n",
              "\n",
              "    [theme=dark] .colab-df-convert {\n",
              "      background-color: #3B4455;\n",
              "      fill: #D2E3FC;\n",
              "    }\n",
              "\n",
              "    [theme=dark] .colab-df-convert:hover {\n",
              "      background-color: #434B5C;\n",
              "      box-shadow: 0px 1px 3px 1px rgba(0, 0, 0, 0.15);\n",
              "      filter: drop-shadow(0px 1px 2px rgba(0, 0, 0, 0.3));\n",
              "      fill: #FFFFFF;\n",
              "    }\n",
              "  </style>\n",
              "\n",
              "    <script>\n",
              "      const buttonEl =\n",
              "        document.querySelector('#df-7a48bc86-20c8-465b-86af-76b8ba640e55 button.colab-df-convert');\n",
              "      buttonEl.style.display =\n",
              "        google.colab.kernel.accessAllowed ? 'block' : 'none';\n",
              "\n",
              "      async function convertToInteractive(key) {\n",
              "        const element = document.querySelector('#df-7a48bc86-20c8-465b-86af-76b8ba640e55');\n",
              "        const dataTable =\n",
              "          await google.colab.kernel.invokeFunction('convertToInteractive',\n",
              "                                                    [key], {});\n",
              "        if (!dataTable) return;\n",
              "\n",
              "        const docLinkHtml = 'Like what you see? Visit the ' +\n",
              "          '<a target=\"_blank\" href=https://colab.research.google.com/notebooks/data_table.ipynb>data table notebook</a>'\n",
              "          + ' to learn more about interactive tables.';\n",
              "        element.innerHTML = '';\n",
              "        dataTable['output_type'] = 'display_data';\n",
              "        await google.colab.output.renderOutput(dataTable, element);\n",
              "        const docLink = document.createElement('div');\n",
              "        docLink.innerHTML = docLinkHtml;\n",
              "        element.appendChild(docLink);\n",
              "      }\n",
              "    </script>\n",
              "  </div>\n",
              "\n",
              "\n",
              "<div id=\"df-80d3a845-76d2-4c68-a120-b57908893634\">\n",
              "  <button class=\"colab-df-quickchart\" onclick=\"quickchart('df-80d3a845-76d2-4c68-a120-b57908893634')\"\n",
              "            title=\"Suggest charts\"\n",
              "            style=\"display:none;\">\n",
              "\n",
              "<svg xmlns=\"http://www.w3.org/2000/svg\" height=\"24px\"viewBox=\"0 0 24 24\"\n",
              "     width=\"24px\">\n",
              "    <g>\n",
              "        <path d=\"M19 3H5c-1.1 0-2 .9-2 2v14c0 1.1.9 2 2 2h14c1.1 0 2-.9 2-2V5c0-1.1-.9-2-2-2zM9 17H7v-7h2v7zm4 0h-2V7h2v10zm4 0h-2v-4h2v4z\"/>\n",
              "    </g>\n",
              "</svg>\n",
              "  </button>\n",
              "\n",
              "<style>\n",
              "  .colab-df-quickchart {\n",
              "      --bg-color: #E8F0FE;\n",
              "      --fill-color: #1967D2;\n",
              "      --hover-bg-color: #E2EBFA;\n",
              "      --hover-fill-color: #174EA6;\n",
              "      --disabled-fill-color: #AAA;\n",
              "      --disabled-bg-color: #DDD;\n",
              "  }\n",
              "\n",
              "  [theme=dark] .colab-df-quickchart {\n",
              "      --bg-color: #3B4455;\n",
              "      --fill-color: #D2E3FC;\n",
              "      --hover-bg-color: #434B5C;\n",
              "      --hover-fill-color: #FFFFFF;\n",
              "      --disabled-bg-color: #3B4455;\n",
              "      --disabled-fill-color: #666;\n",
              "  }\n",
              "\n",
              "  .colab-df-quickchart {\n",
              "    background-color: var(--bg-color);\n",
              "    border: none;\n",
              "    border-radius: 50%;\n",
              "    cursor: pointer;\n",
              "    display: none;\n",
              "    fill: var(--fill-color);\n",
              "    height: 32px;\n",
              "    padding: 0;\n",
              "    width: 32px;\n",
              "  }\n",
              "\n",
              "  .colab-df-quickchart:hover {\n",
              "    background-color: var(--hover-bg-color);\n",
              "    box-shadow: 0 1px 2px rgba(60, 64, 67, 0.3), 0 1px 3px 1px rgba(60, 64, 67, 0.15);\n",
              "    fill: var(--button-hover-fill-color);\n",
              "  }\n",
              "\n",
              "  .colab-df-quickchart-complete:disabled,\n",
              "  .colab-df-quickchart-complete:disabled:hover {\n",
              "    background-color: var(--disabled-bg-color);\n",
              "    fill: var(--disabled-fill-color);\n",
              "    box-shadow: none;\n",
              "  }\n",
              "\n",
              "  .colab-df-spinner {\n",
              "    border: 2px solid var(--fill-color);\n",
              "    border-color: transparent;\n",
              "    border-bottom-color: var(--fill-color);\n",
              "    animation:\n",
              "      spin 1s steps(1) infinite;\n",
              "  }\n",
              "\n",
              "  @keyframes spin {\n",
              "    0% {\n",
              "      border-color: transparent;\n",
              "      border-bottom-color: var(--fill-color);\n",
              "      border-left-color: var(--fill-color);\n",
              "    }\n",
              "    20% {\n",
              "      border-color: transparent;\n",
              "      border-left-color: var(--fill-color);\n",
              "      border-top-color: var(--fill-color);\n",
              "    }\n",
              "    30% {\n",
              "      border-color: transparent;\n",
              "      border-left-color: var(--fill-color);\n",
              "      border-top-color: var(--fill-color);\n",
              "      border-right-color: var(--fill-color);\n",
              "    }\n",
              "    40% {\n",
              "      border-color: transparent;\n",
              "      border-right-color: var(--fill-color);\n",
              "      border-top-color: var(--fill-color);\n",
              "    }\n",
              "    60% {\n",
              "      border-color: transparent;\n",
              "      border-right-color: var(--fill-color);\n",
              "    }\n",
              "    80% {\n",
              "      border-color: transparent;\n",
              "      border-right-color: var(--fill-color);\n",
              "      border-bottom-color: var(--fill-color);\n",
              "    }\n",
              "    90% {\n",
              "      border-color: transparent;\n",
              "      border-bottom-color: var(--fill-color);\n",
              "    }\n",
              "  }\n",
              "</style>\n",
              "\n",
              "  <script>\n",
              "    async function quickchart(key) {\n",
              "      const quickchartButtonEl =\n",
              "        document.querySelector('#' + key + ' button');\n",
              "      quickchartButtonEl.disabled = true;  // To prevent multiple clicks.\n",
              "      quickchartButtonEl.classList.add('colab-df-spinner');\n",
              "      try {\n",
              "        const charts = await google.colab.kernel.invokeFunction(\n",
              "            'suggestCharts', [key], {});\n",
              "      } catch (error) {\n",
              "        console.error('Error during call to suggestCharts:', error);\n",
              "      }\n",
              "      quickchartButtonEl.classList.remove('colab-df-spinner');\n",
              "      quickchartButtonEl.classList.add('colab-df-quickchart-complete');\n",
              "    }\n",
              "    (() => {\n",
              "      let quickchartButtonEl =\n",
              "        document.querySelector('#df-80d3a845-76d2-4c68-a120-b57908893634 button');\n",
              "      quickchartButtonEl.style.display =\n",
              "        google.colab.kernel.accessAllowed ? 'block' : 'none';\n",
              "    })();\n",
              "  </script>\n",
              "</div>\n",
              "    </div>\n",
              "  </div>\n"
            ],
            "application/vnd.google.colaboratory.intrinsic+json": {
              "type": "dataframe",
              "variable_name": "sub",
              "summary": "{\n  \"name\": \"sub\",\n  \"rows\": 4209,\n  \"fields\": [\n    {\n      \"column\": \"ID\",\n      \"properties\": {\n        \"dtype\": \"number\",\n        \"std\": 2423,\n        \"min\": 1,\n        \"max\": 8416,\n        \"num_unique_values\": 4209,\n        \"samples\": [\n          2162,\n          272,\n          4752\n        ],\n        \"semantic_type\": \"\",\n        \"description\": \"\"\n      }\n    },\n    {\n      \"column\": \"y\",\n      \"properties\": {\n        \"dtype\": \"float32\",\n        \"num_unique_values\": 3621,\n        \"samples\": [\n          97.02239227294922,\n          94.4632797241211,\n          108.41095733642578\n        ],\n        \"semantic_type\": \"\",\n        \"description\": \"\"\n      }\n    }\n  ]\n}"
            }
          },
          "metadata": {},
          "execution_count": 12
        }
      ]
    },
    {
      "cell_type": "code",
      "source": [],
      "metadata": {
        "id": "7Y5Cal1xjW7k"
      },
      "execution_count": 12,
      "outputs": []
    }
  ]
}